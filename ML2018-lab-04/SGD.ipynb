{
 "cells": [
  {
   "cell_type": "code",
   "execution_count": 1,
   "metadata": {},
   "outputs": [
    {
     "data": {
      "text/html": [
       "<div>\n",
       "<style scoped>\n",
       "    .dataframe tbody tr th:only-of-type {\n",
       "        vertical-align: middle;\n",
       "    }\n",
       "\n",
       "    .dataframe tbody tr th {\n",
       "        vertical-align: top;\n",
       "    }\n",
       "\n",
       "    .dataframe thead th {\n",
       "        text-align: right;\n",
       "    }\n",
       "</style>\n",
       "<table border=\"1\" class=\"dataframe\">\n",
       "  <thead>\n",
       "    <tr style=\"text-align: right;\">\n",
       "      <th></th>\n",
       "      <th>user_id</th>\n",
       "      <th>movie_id</th>\n",
       "      <th>rating</th>\n",
       "    </tr>\n",
       "  </thead>\n",
       "  <tbody>\n",
       "    <tr>\n",
       "      <th>0</th>\n",
       "      <td>1</td>\n",
       "      <td>1</td>\n",
       "      <td>5</td>\n",
       "    </tr>\n",
       "    <tr>\n",
       "      <th>1</th>\n",
       "      <td>1</td>\n",
       "      <td>2</td>\n",
       "      <td>3</td>\n",
       "    </tr>\n",
       "    <tr>\n",
       "      <th>2</th>\n",
       "      <td>1</td>\n",
       "      <td>3</td>\n",
       "      <td>4</td>\n",
       "    </tr>\n",
       "    <tr>\n",
       "      <th>3</th>\n",
       "      <td>1</td>\n",
       "      <td>4</td>\n",
       "      <td>3</td>\n",
       "    </tr>\n",
       "    <tr>\n",
       "      <th>4</th>\n",
       "      <td>1</td>\n",
       "      <td>5</td>\n",
       "      <td>3</td>\n",
       "    </tr>\n",
       "  </tbody>\n",
       "</table>\n",
       "</div>"
      ],
      "text/plain": [
       "   user_id  movie_id  rating\n",
       "0        1         1       5\n",
       "1        1         2       3\n",
       "2        1         3       4\n",
       "3        1         4       3\n",
       "4        1         5       3"
      ]
     },
     "execution_count": 1,
     "metadata": {},
     "output_type": "execute_result"
    }
   ],
   "source": [
    "import numpy as np\n",
    "import pandas as pd\n",
    "import matplotlib.pyplot as plt\n",
    "\n",
    "%matplotlib inline\n",
    "from IPython.core.interactiveshell import InteractiveShell\n",
    "InteractiveShell.ast_node_interactivity = \"all\" \n",
    "\n",
    "r_cols = ['user_id', 'movie_id', 'rating', 'unix_timestamp']\n",
    "data_df = pd.read_csv('./ml-100k/u1.base', sep='\\t', names=r_cols,encoding='latin-1')\n",
    "validate_df = pd.read_csv('./ml-100k/u1.test', sep='\\t', names=r_cols,encoding='latin-1')\n",
    "\n",
    "\n",
    "data = data_df.drop(['unix_timestamp'],axis=1).sort_values(['user_id','movie_id']);\n",
    "validate = validate_df.drop(['unix_timestamp'],axis=1).sort_values(['user_id','movie_id']);\n",
    "data.head()"
   ]
  },
  {
   "cell_type": "code",
   "execution_count": 2,
   "metadata": {},
   "outputs": [],
   "source": [
    "# 原始评分矩阵\n",
    "n_users=data['user_id'].unique().shape[0]\n",
    "n_items = data['movie_id'].unique().shape[0]\n",
    "\n",
    "n_users_validate=validate['user_id'].unique().shape[0]\n",
    "n_items_validate = validate['movie_id'].unique().shape[0]\n",
    "# n_users\n",
    "# n_items\n",
    "copy_data = data.copy() \n",
    "copy_validate = validate.copy()\n",
    "R_train = copy_data.set_index(['user_id','movie_id'],inplace=True)\n",
    "R_validate = copy_validate.set_index(['user_id','movie_id'],inplace=True)\n",
    "\n",
    "R_train=copy_data.unstack(level=1)\n",
    "R_validate=copy_validate.unstack(level=1)\n",
    "\n",
    "R_train=R_train.fillna(0)\n",
    "R_validate=R_validate.fillna(0)"
   ]
  },
  {
   "cell_type": "markdown",
   "metadata": {},
   "source": [
    "  $$  R_{(n_users,n_items)}  =  P_{(n_users,K)}\\dot Q_{(n_items,K)}^T =  P_{(n_users,K)}\\dot Q_{(K,n_items)}$$"
   ]
  },
  {
   "cell_type": "code",
   "execution_count": 3,
   "metadata": {},
   "outputs": [],
   "source": [
    "K = 10\n",
    "\n",
    "P =np.random.rand(n_users,K)\n",
    "Q = np.random.rand(n_items,K)\n",
    "\n",
    "P = pd.DataFrame(data =P,index=range(1,n_users+1),columns=range(1,K+1))\n",
    "Q = pd.DataFrame(data =  Q,index=range(1,n_items+1), columns=range(1,K+1))"
   ]
  },
  {
   "cell_type": "markdown",
   "metadata": {},
   "source": [
    "$u$代表$n\\_user$ ,$i$代表$n\\_items$\n",
    "$$ L(P,Q) = \\sum_{n=1}^{u}\\sum_{n=1}^{i}(R_{u,i}-P_uQ_i)^2+\\lambda_{p}P_u^2+\\lambda_{q}Q_i^2$$\n",
    "其中 $\\lambda1 = \\lambda2 = \\frac{1}{10}$ "
   ]
  },
  {
   "cell_type": "code",
   "execution_count": 4,
   "metadata": {},
   "outputs": [],
   "source": [
    "lambda1= 1/10\n",
    "lambda2= 1/10\n",
    "def loss(R,P,Q,lambda1,lambda2):#alpha 是 实验要给的lambda\n",
    "    R = np.matrix(R)  # n_users * n_items\n",
    "    P = np.matrix(P)  # n_users * K\n",
    "    Q = np.matrix(Q)  # n_items * K\n",
    "    new_R = P.dot(np.transpose(Q))  \n",
    "    differ  = R - new_R[0:R.shape[0],0:R.shape[1]]\n",
    "    differ[R==0]=0\n",
    "    square_differ_loss = np.multiply(differ,differ).sum()/2\n",
    "    p =  np.multiply(P,P).sum()\n",
    "    q =  np.multiply(Q,Q).sum()\n",
    "    regularizer = lambda1*p+lambda2*q\n",
    "    if R.shape[0]==P.shape[0]:\n",
    "        gp=differ.dot(-1*Q)+lambda1*P\n",
    "        gq=differ.T.dot(-1*P)+lambda2*Q\n",
    "        return (square_differ_loss + regularizer)/(R[R!=0].shape[1]), gp, gq\n",
    "    else:\n",
    "        return (square_differ_loss + regularizer)/(R[R!=0].shape[1])"
   ]
  },
  {
   "cell_type": "code",
   "execution_count": 5,
   "metadata": {},
   "outputs": [],
   "source": [
    "train_loss = []    \n",
    "test_loss=[]\n",
    "alpha=0.0005\n",
    "for i in range(100):\n",
    "    P=P-alpha*loss(R_train,P,Q,lambda1,lambda2)[1]\n",
    "    Q=Q-alpha*loss(R_train,P,Q,lambda1,lambda2)[2]\n",
    "    train_loss.append(loss(R_train,P,Q,lambda1,lambda2)[0])\n",
    "    test_loss.append(loss(R_validate,P,Q,lambda1,lambda2))"
   ]
  },
  {
   "cell_type": "code",
   "execution_count": 7,
   "metadata": {},
   "outputs": [
    {
     "data": {
      "text/plain": [
       "Text(0.5,0,'epoch')"
      ]
     },
     "execution_count": 7,
     "metadata": {},
     "output_type": "execute_result"
    },
    {
     "data": {
      "text/plain": [
       "Text(0,0.5,'loss')"
      ]
     },
     "execution_count": 7,
     "metadata": {},
     "output_type": "execute_result"
    },
    {
     "data": {
      "text/plain": [
       "Text(0.5,1,'Loss of train and validate')"
      ]
     },
     "execution_count": 7,
     "metadata": {},
     "output_type": "execute_result"
    },
    {
     "data": {
      "text/plain": [
       "[<matplotlib.lines.Line2D at 0x110574050>]"
      ]
     },
     "execution_count": 7,
     "metadata": {},
     "output_type": "execute_result"
    },
    {
     "data": {
      "text/plain": [
       "[<matplotlib.lines.Line2D at 0x11058b910>]"
      ]
     },
     "execution_count": 7,
     "metadata": {},
     "output_type": "execute_result"
    },
    {
     "data": {
      "text/plain": [
       "<matplotlib.legend.Legend at 0x11058b790>"
      ]
     },
     "execution_count": 7,
     "metadata": {},
     "output_type": "execute_result"
    },
    {
     "data": {
      "image/png": "[encoded data removed]",
      "text/plain": [
       "<Figure size 432x288 with 1 Axes>"
      ]
     },
     "metadata": {},
     "output_type": "display_data"
    }
   ],
   "source": [
    "plt.xlabel(\"epoch\")\n",
    "plt.ylabel(\"loss\")\n",
    "plt.title('Loss of train and validate')\n",
    "plt.plot(train_loss, '--', c='b',linewidth=1, label='train')\n",
    "plt.plot(test_loss, '--', c='r',linewidth=4, label='validation')\n",
    "plt.legend()\n",
    "# plt.savefig('ALS-losses.png')\n",
    "plt.show()"
   ]
  },
  {
   "cell_type": "code",
   "execution_count": null,
   "metadata": {},
   "outputs": [],
   "source": []
  }
 ],
 "metadata": {
  "kernelspec": {
   "display_name": "Python 2",
   "language": "python",
   "name": "python2"
  },
  "language_info": {
   "codemirror_mode": {
    "name": "ipython",
    "version": 2
   },
   "file_extension": ".py",
   "mimetype": "text/x-python",
   "name": "python",
   "nbconvert_exporter": "python",
   "pygments_lexer": "ipython2",
   "version": "2.7.15"
  }
 },
 "nbformat": 4,
 "nbformat_minor": 2
}
