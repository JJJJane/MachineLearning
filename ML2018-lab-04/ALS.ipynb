{
 "cells": [
  {
   "cell_type": "code",
   "execution_count": 1,
   "metadata": {},
   "outputs": [],
   "source": [
    "import numpy as np\n",
    "import pandas as pd\n",
    "import matplotlib.pyplot as plt\n",
    "\n",
    "%matplotlib inline\n",
    "from IPython.core.interactiveshell import InteractiveShell\n",
    "InteractiveShell.ast_node_interactivity = \"all\" "
   ]
  },
  {
   "cell_type": "code",
   "execution_count": 2,
   "metadata": {},
   "outputs": [
    {
     "data": {
      "text/html": [
       "<div>\n",
       "<style scoped>\n",
       "    .dataframe tbody tr th:only-of-type {\n",
       "        vertical-align: middle;\n",
       "    }\n",
       "\n",
       "    .dataframe tbody tr th {\n",
       "        vertical-align: top;\n",
       "    }\n",
       "\n",
       "    .dataframe thead th {\n",
       "        text-align: right;\n",
       "    }\n",
       "</style>\n",
       "<table border=\"1\" class=\"dataframe\">\n",
       "  <thead>\n",
       "    <tr style=\"text-align: right;\">\n",
       "      <th></th>\n",
       "      <th>user_id</th>\n",
       "      <th>movie_id</th>\n",
       "      <th>rating</th>\n",
       "    </tr>\n",
       "  </thead>\n",
       "  <tbody>\n",
       "    <tr>\n",
       "      <th>0</th>\n",
       "      <td>1</td>\n",
       "      <td>1</td>\n",
       "      <td>5</td>\n",
       "    </tr>\n",
       "    <tr>\n",
       "      <th>1</th>\n",
       "      <td>1</td>\n",
       "      <td>2</td>\n",
       "      <td>3</td>\n",
       "    </tr>\n",
       "    <tr>\n",
       "      <th>2</th>\n",
       "      <td>1</td>\n",
       "      <td>3</td>\n",
       "      <td>4</td>\n",
       "    </tr>\n",
       "    <tr>\n",
       "      <th>3</th>\n",
       "      <td>1</td>\n",
       "      <td>4</td>\n",
       "      <td>3</td>\n",
       "    </tr>\n",
       "    <tr>\n",
       "      <th>4</th>\n",
       "      <td>1</td>\n",
       "      <td>5</td>\n",
       "      <td>3</td>\n",
       "    </tr>\n",
       "  </tbody>\n",
       "</table>\n",
       "</div>"
      ],
      "text/plain": [
       "   user_id  movie_id  rating\n",
       "0        1         1       5\n",
       "1        1         2       3\n",
       "2        1         3       4\n",
       "3        1         4       3\n",
       "4        1         5       3"
      ]
     },
     "execution_count": 2,
     "metadata": {},
     "output_type": "execute_result"
    }
   ],
   "source": [
    "r_cols = ['user_id', 'movie_id', 'rating', 'unix_timestamp']\n",
    "data_df = pd.read_csv('./ml-100k/u1.base', sep='\\t', names=r_cols,encoding='latin-1')\n",
    "test_df = pd.read_csv('./ml-100k/u1.test', sep='\\t', names=r_cols,encoding='latin-1')\n",
    "\n",
    "\n",
    "data = data_df.drop(['unix_timestamp'],axis=1).sort_values(['user_id','movie_id']);\n",
    "test = test_df.drop(['unix_timestamp'],axis=1).sort_values(['user_id','movie_id']);\n",
    "data.head()"
   ]
  },
  {
   "cell_type": "code",
   "execution_count": 3,
   "metadata": {},
   "outputs": [
    {
     "data": {
      "text/plain": [
       "943"
      ]
     },
     "execution_count": 3,
     "metadata": {},
     "output_type": "execute_result"
    },
    {
     "data": {
      "text/plain": [
       "1650"
      ]
     },
     "execution_count": 3,
     "metadata": {},
     "output_type": "execute_result"
    },
    {
     "data": {
      "text/plain": [
       "(943, 1650)"
      ]
     },
     "execution_count": 3,
     "metadata": {},
     "output_type": "execute_result"
    }
   ],
   "source": [
    "# 原始评分矩阵\n",
    "n_users=data['user_id'].unique().shape[0]\n",
    "n_items = data['movie_id'].unique().shape[0]\n",
    "n_users\n",
    "n_items\n",
    "\n",
    "n_users_validate=test['user_id'].unique().shape[0]\n",
    "n_items_validate = test['movie_id'].unique().shape[0]\n",
    "# n_users\n",
    "# n_items\n",
    "\n",
    "copy_data = data.copy() \n",
    "copy_test = test.copy()\n",
    "R_train = copy_data.set_index(['user_id','movie_id'],inplace=True)\n",
    "R_validate = copy_test.set_index(['user_id','movie_id'],inplace=True)\n",
    "\n",
    "\n",
    "R_train=copy_data.unstack(level=1)\n",
    "R_validate=copy_test.unstack(level=1)\n",
    "\n",
    "R_train=R_train.fillna(0)\n",
    "R_validate=R_validate.fillna(0)\n",
    "R_train.shape\n",
    "\n",
    "\n",
    "# copy_test = test.copy() \n",
    "# R_test = copy_test.set_index(['user_id','movie_id'],inplace=True)\n",
    "# R_test=copy_test.unstack(level=1)\n",
    "# R_test=R_test.fillna(0)\n",
    "# R_test.shape\n",
    "\n"
   ]
  },
  {
   "cell_type": "markdown",
   "metadata": {},
   "source": [
    "\n",
    "  $$  R_{(n_users,n_items)}  =  P_{(n_users,K)}\\dot Q_{(n_items,K)}^T =  P_{(n_users,K)}\\dot Q_{(K,n_items)}$$"
   ]
  },
  {
   "cell_type": "code",
   "execution_count": 4,
   "metadata": {},
   "outputs": [],
   "source": [
    "K = 10\n",
    "\n",
    "P =np.random.rand(n_users,K)\n",
    "Q = np.random.rand(n_items,K)\n",
    "\n",
    "P = pd.DataFrame(data =P,index=range(1,n_users+1),columns=range(1,K+1))\n",
    "Q = pd.DataFrame(data =  Q,index=range(1,n_items+1), columns=range(1,K+1))"
   ]
  },
  {
   "cell_type": "markdown",
   "metadata": {},
   "source": []
  },
  {
   "cell_type": "code",
   "execution_count": null,
   "metadata": {},
   "outputs": [],
   "source": []
  },
  {
   "cell_type": "markdown",
   "metadata": {},
   "source": [
    "$u$代表$n\\_user$ ,$i$代表$n\\_items$\n",
    "$$ L(P,Q) = \\sum_{n=1}^{u}\\sum_{n=1}^{i}(R_{u,i}-P_uQ_i)^2+\\frac{1}{2}{(P_u^2+Q_i^2)}$$\n",
    "其中 $\\alpha = \\lambda = \\frac{1}{2}$ "
   ]
  },
  {
   "cell_type": "code",
   "execution_count": 5,
   "metadata": {},
   "outputs": [],
   "source": [
    "alpha = 1/10\n",
    "def loss(R,P,Q,alpha):#alpha 是 实验要给的lambda\n",
    "    R = np.matrix(R)  # n_users * n_items\n",
    "    P = np.matrix(P)  # n_users * K\n",
    "    Q = np.matrix(Q)  # n_items * K\n",
    "    new_R = P.dot(np.transpose(Q))  \n",
    "    differ  = R - new_R[0:R.shape[0],0:R.shape[1]]\n",
    "#     print(new_R[0:R.shape[0],:].shape)\n",
    "    differ[R==0]=0\n",
    "    differ\n",
    "    square_differ_loss = np.multiply(differ,differ).sum()/2\n",
    "    p =  np.multiply(P,P).sum()\n",
    "    q =  np.multiply(Q,Q).sum()\n",
    "    regularizer = alpha*(p+q)\n",
    "\n",
    "    return (square_differ_loss + regularizer)/(R[R!=0].shape[1])"
   ]
  },
  {
   "cell_type": "markdown",
   "metadata": {},
   "source": [
    "$$P_u = {(Q_{(k,i)}Q_{(k,i)}^{T}+ \\alpha E_k)}^{-1}Q_{(k,i)}R_u  $$\n"
   ]
  },
  {
   "cell_type": "code",
   "execution_count": 6,
   "metadata": {},
   "outputs": [],
   "source": [
    "train_loss = []    \n",
    "test_loss=[]\n",
    "for i in range(100):\n",
    "    P= np.linalg.inv(np.transpose(Q).dot(Q)+alpha*(np.eye(K))).dot(np.transpose(Q)).dot(np.transpose(R_train))\n",
    "    P=np.transpose(P)\n",
    "    Q=np.linalg.inv(np.transpose(P).dot(P)+alpha*(np.eye(K))).dot(np.transpose(P)).dot(R_train)\n",
    "    Q=np.transpose(Q)\n",
    "#     print(\"\")\n",
    "#     print(\"Train Loss:  {}\".format(loss(R_train,P,Q,alpha)))\n",
    "#print(\"Validation Loss: {}\".format(loss(R_validate,P,Q,alpha)));        \n",
    "        \n",
    "#       print(\"epoch#:%d ，train_loss: %d ,test_loss: %d\",epoch+1,loss(R_train,P,Q,alpha),loss(R_test,P,Q,alpha))\n",
    "    train_loss.append(loss(R_train,P,Q,alpha))\n",
    "    test_loss.append(loss(R_validate,P,Q,alpha))\n",
    "    \n"
   ]
  },
  {
   "cell_type": "code",
   "execution_count": 7,
   "metadata": {},
   "outputs": [
    {
     "data": {
      "text/plain": [
       "Text(0.5,0,'epoch')"
      ]
     },
     "execution_count": 7,
     "metadata": {},
     "output_type": "execute_result"
    },
    {
     "data": {
      "text/plain": [
       "Text(0,0.5,'loss')"
      ]
     },
     "execution_count": 7,
     "metadata": {},
     "output_type": "execute_result"
    },
    {
     "data": {
      "text/plain": [
       "Text(0.5,1,'Loss of train and validate')"
      ]
     },
     "execution_count": 7,
     "metadata": {},
     "output_type": "execute_result"
    },
    {
     "data": {
      "text/plain": [
       "[<matplotlib.lines.Line2D at 0x11b42c910>]"
      ]
     },
     "execution_count": 7,
     "metadata": {},
     "output_type": "execute_result"
    },
    {
     "data": {
      "text/plain": [
       "[<matplotlib.lines.Line2D at 0x11c80c750>]"
      ]
     },
     "execution_count": 7,
     "metadata": {},
     "output_type": "execute_result"
    },
    {
     "data": {
      "text/plain": [
       "<matplotlib.legend.Legend at 0x11c80c6d0>"
      ]
     },
     "execution_count": 7,
     "metadata": {},
     "output_type": "execute_result"
    },
    {
     "data": {
      "image/png": "[encoded data removed]",
      "text/plain": [
       "<Figure size 432x288 with 1 Axes>"
      ]
     },
     "metadata": {},
     "output_type": "display_data"
    }
   ],
   "source": [
    "plt.xlabel(\"epoch\")\n",
    "plt.ylabel(\"loss\")\n",
    "plt.title('Loss of train and validate')\n",
    "plt.plot(train_loss, '--', c='b',linewidth=1, label='train')\n",
    "plt.plot(test_loss, '--', c='r',linewidth=4, label='validation')\n",
    "plt.legend()\n",
    "# plt.savefig('ALS-losses.png')\n",
    "plt.show()"
   ]
  },
  {
   "cell_type": "code",
   "execution_count": null,
   "metadata": {},
   "outputs": [],
   "source": []
  }
 ],
 "metadata": {
  "kernelspec": {
   "display_name": "Python 2",
   "language": "python",
   "name": "python2"
  },
  "language_info": {
   "codemirror_mode": {
    "name": "ipython",
    "version": 2
   },
   "file_extension": ".py",
   "mimetype": "text/x-python",
   "name": "python",
   "nbconvert_exporter": "python",
   "pygments_lexer": "ipython2",
   "version": "2.7.15"
  }
 },
 "nbformat": 4,
 "nbformat_minor": 2
}
