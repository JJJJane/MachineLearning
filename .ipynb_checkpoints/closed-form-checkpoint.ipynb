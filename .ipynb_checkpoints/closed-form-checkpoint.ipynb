{
 "cells": [
  {
   "cell_type": "code",
   "execution_count": 2,
   "metadata": {},
   "outputs": [
    {
     "name": "stdout",
     "output_type": "stream",
     "text": [
      "(506, 14)\n",
      "(506, 1)\n",
      "(506, 14)\n",
      "(506, 1)\n",
      "(506, 14)\n",
      "(506, 1)\n",
      "(506, 14)\n",
      "(506, 1)\n",
      "(506, 14)\n",
      "(506, 1)\n",
      "(506, 14)\n",
      "(506, 1)\n",
      "(506, 14)\n",
      "(506, 1)\n",
      "(506, 14)\n",
      "(506, 1)\n",
      "(506, 14)\n",
      "(506, 1)\n"
     ]
    },
    {
     "data": {
      "image/png": "[encoded data removed]",
      "text/plain": [
       "<Figure size 432x288 with 1 Axes>"
      ]
     },
     "metadata": {},
     "output_type": "display_data"
    }
   ],
   "source": [
    "#导入所需库\n",
    "from io import BytesIO\n",
    "import requests\n",
    "import numpy as np\n",
    "from numpy import random,mat\n",
    "import numpy.linalg as lg\n",
    "import matplotlib.pyplot as plt\n",
    "from sklearn import datasets\n",
    "from sklearn.model_selection import train_test_split\n",
    "from sklearn.datasets import load_svmlight_file\n",
    "\n",
    "r = requests.get(\"https://www.csie.ntu.edu.tw/~cjlin/libsvmtools/datasets/regression/housing_scale\")\n",
    "X, y=datasets.load_svmlight_file(BytesIO(r.content),n_features=13)\n",
    "y=y.reshape(y.shape[0],1)\n",
    "X=X.toarray()\n",
    "x1=np.ones(X.shape[0])\n",
    "X=np.insert(X,X.shape[1],values=x1,axis=1)\n",
    "    \n",
    "def loss(w,X,y):\n",
    "    h=predict(X,w)\n",
    "    differ=h-y\n",
    "    loss=0\n",
    "    for i in differ:\n",
    "            loss+=i**2\n",
    "    return loss/(2*y.shape[0])\n",
    "def theta(X,y):\n",
    "    x1=X.T.dot(X)\n",
    "    x2=lg.inv(x1)\n",
    "    x3= x2.dot(X.T)\n",
    "    return x3.dot(y)\n",
    "def predict(X,w):\n",
    "    return X.dot(w)\n",
    "test=[0.1,0.2,0.3,0.4,0.5,0.6,0.7,0.8,0.9]\n",
    "loss_train=[]\n",
    "loss_test=[]\n",
    "\n",
    "for i in test:\n",
    "    X_train,X_test,y_train,y_test=train_test_split(X,y,test_size=i,random_state=1)\n",
    "    print(X.shape)\n",
    "    print(y.shape)\n",
    "    y_train=y_train.reshape(y_train.shape[0],1)\n",
    "    y_test=y_test.reshape(y_test.shape[0],1)\n",
    "    w=theta(X_train,y_train)\n",
    "    loss_train.append(loss(w,X_train,y_train))\n",
    "    loss_test.append(loss(w,X_test,y_test))\n",
    "\n",
    "plt.title(\"loss of test and train datasets\")\n",
    "plt.plot(test,loss_train,color=\"r\",label='train')\n",
    "plt.plot(test,loss_test,color=\"b\",label='test')\n",
    "\n",
    "plt.show()"
   ]
  },
  {
   "cell_type": "code",
   "execution_count": null,
   "metadata": {},
   "outputs": [],
   "source": []
  },
  {
   "cell_type": "code",
   "execution_count": null,
   "metadata": {},
   "outputs": [],
   "source": []
  }
 ],
 "metadata": {
  "kernelspec": {
   "display_name": "Python 2",
   "language": "python",
   "name": "python2"
  },
  "language_info": {
   "codemirror_mode": {
    "name": "ipython",
    "version": 2
   },
   "file_extension": ".py",
   "mimetype": "text/x-python",
   "name": "python",
   "nbconvert_exporter": "python",
   "pygments_lexer": "ipython2",
   "version": "2.7.15"
  }
 },
 "nbformat": 4,
 "nbformat_minor": 2
}
