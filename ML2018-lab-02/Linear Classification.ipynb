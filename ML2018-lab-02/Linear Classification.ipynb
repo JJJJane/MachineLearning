{
 "cells": [
  {
   "cell_type": "code",
   "execution_count": 17,
   "metadata": {},
   "outputs": [
    {
     "data": {
      "image/png": "[encoded data removed]",
      "text/plain": [
       "<Figure size 432x288 with 1 Axes>"
      ]
     },
     "metadata": {},
     "output_type": "display_data"
    }
   ],
   "source": [
    "import numpy as np\n",
    "from numpy import random,mat\n",
    "import matplotlib.pyplot as plt\n",
    "from sklearn import datasets\n",
    "from sklearn.model_selection import train_test_split\n",
    "from sklearn.datasets import load_svmlight_file\n",
    "\n",
    "class classify(object):\n",
    "    def __init__(self):\n",
    "        self.W=None\n",
    "        self.b=None\n",
    "        self.batch_size=None\n",
    "        \n",
    "    def loss(self, X, y,X_validate,y_validate,c):\n",
    "        n_train=X.shape[0]/self.batch_size\n",
    "        i= random.randint(0,n_train-2)\n",
    "        index=self.batch_size*i\n",
    "        \n",
    "        X_train=X[index:index+self.batch_size]\n",
    "        y_train=y[index:index+self.batch_size]\n",
    "        \n",
    "        loss_train=0\n",
    "        loss_validate=0\n",
    "        for i in xrange(X_validate.shape[0]):\n",
    "            var=self.predict(X_validate[i])-y_validate[i]+1\n",
    "            loss_validate+=var[0] if var>0 else 0\n",
    "        for i in xrange(X_train.shape[0]):\n",
    "            var=self.predict(X_train[i])-y_train[i]+1\n",
    "            loss_train+=var if var>0 else 0\n",
    "        loss_validate=loss_validate/X_validate.shape[0]\n",
    "        loss_train=loss_train/X_train.shape[0]\n",
    "        \n",
    "        dW=self.W.copy()\n",
    "        for i in xrange(X_train.shape[0]):\n",
    "            add=1 - y_train[i]*self.predict(X_train[i]) #1-yi*ypredict\n",
    "            add_W= -c*X_train[i]*y_train[i][0]\n",
    "            add_W=add_W.reshape(add_W.shape[0],1)\n",
    "            dW+=c*add_W if add>0 else 0\n",
    "        return loss_train,loss_validate,dW\n",
    " \n",
    "    def train(self,X,y,X_validate,y_validate,learn_rate=0.005,iters=200, batch_size=256,c=0.1):\n",
    "        \n",
    "        num_feature=X.shape[1] \n",
    "        num_train=X.shape[0] \n",
    "        self.batch_size = batch_size\n",
    "        self.W=np.zeros((num_feature,1))\n",
    "        loss_list_train = []\n",
    "        loss_list_validate=[]\n",
    "        \n",
    "        for i in xrange(iters):\n",
    "            loss_train,loss_validate,dW= self.loss(X, y,X_validate,y_validate,c)\n",
    "            loss_list_train.append(loss_train)\n",
    "            loss_list_validate.append(loss_validate)\n",
    "            self.W+=-dW*learn_rate\n",
    "        return loss_list_train,loss_list_validate\n",
    "    \n",
    "    def predict(self,X):\n",
    "        return X.dot(self.W)\n",
    "    pass\n",
    "\n",
    "# 读取数据集\n",
    "X_train,y_train=datasets.load_svmlight_file('/Users/taohuadao/Documents/机器学习temp/a9a',n_features=124,length=32561*125)\n",
    "X_validate,y_validate=datasets.load_svmlight_file('/Users/taohuadao/Documents/机器学习temp/a9a.t',n_features=124,length=32561*125)\n",
    "X_train=X_train.toarray()\n",
    "X_validate=X_validate.toarray()\n",
    "y_train=y_train.reshape(y_train.shape[0],1)\n",
    "y_validate=y_validate.reshape(y_validate.shape[0],1)\n",
    "\n",
    "\n",
    "classification=classify()\n",
    "loss_list_train,loss_list_validate=classification.train(X_train, y_train,X_validate,y_validate)\n",
    "\n",
    "iters = np.arange(0, 200)\n",
    "plt.plot(iters,loss_list_train,color=\"r\",label=\"train\")\n",
    "plt.plot(iters,loss_list_validate,color=\"b\",label=\"validation\")\n",
    "plt.title('learn_rate=0.005')\n",
    "plt.xlabel('epoch')\n",
    "plt.ylabel('loss')\n",
    "plt.legend(loc='upper right')\n",
    "plt.show()\n",
    "\n"
   ]
  },
  {
   "cell_type": "code",
   "execution_count": null,
   "metadata": {},
   "outputs": [],
   "source": []
  },
  {
   "cell_type": "code",
   "execution_count": null,
   "metadata": {},
   "outputs": [],
   "source": []
  },
  {
   "cell_type": "code",
   "execution_count": null,
   "metadata": {},
   "outputs": [],
   "source": []
  },
  {
   "cell_type": "code",
   "execution_count": null,
   "metadata": {},
   "outputs": [],
   "source": []
  },
  {
   "cell_type": "code",
   "execution_count": null,
   "metadata": {},
   "outputs": [],
   "source": []
  }
 ],
 "metadata": {
  "kernelspec": {
   "display_name": "Python 2",
   "language": "python",
   "name": "python2"
  },
  "language_info": {
   "codemirror_mode": {
    "name": "ipython",
    "version": 2
   },
   "file_extension": ".py",
   "mimetype": "text/x-python",
   "name": "python",
   "nbconvert_exporter": "python",
   "pygments_lexer": "ipython2",
   "version": "2.7.15"
  }
 },
 "nbformat": 4,
 "nbformat_minor": 2
}
