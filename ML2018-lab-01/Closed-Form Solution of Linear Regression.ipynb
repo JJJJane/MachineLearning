{
 "cells": [
  {
   "cell_type": "code",
   "execution_count": 42,
   "metadata": {},
   "outputs": [
    {
     "data": {
      "image/png": "[encoded data removed]",
      "text/plain": [
       "<Figure size 432x288 with 1 Axes>"
      ]
     },
     "metadata": {},
     "output_type": "display_data"
    }
   ],
   "source": [
    "#导入所需库\n",
    "from io import BytesIO\n",
    "import requests\n",
    "import numpy as np\n",
    "from numpy import random,mat\n",
    "import numpy.linalg as lg\n",
    "import matplotlib.pyplot as plt\n",
    "from sklearn import datasets\n",
    "from sklearn.model_selection import train_test_split\n",
    "from sklearn.datasets import load_svmlight_file\n",
    "\n",
    "#读取数据\n",
    "r = requests.get(\"https://www.csie.ntu.edu.tw/~cjlin/libsvmtools/datasets/regression/housing_scale\")\n",
    "X, y=datasets.load_svmlight_file(BytesIO(r.content),n_features=13)\n",
    "\n",
    "#将X转化为ndarray，加入一列1\n",
    "X=X.toarray()\n",
    "x1=np.ones(X.shape[0])\n",
    "X=np.insert(X,X.shape[1],values=x1,axis=1)\n",
    "loss_train=[]\n",
    "loss_validate=[]\n",
    "loss=[]\n",
    "#以不同的训练集比例切分数据\n",
    "for i in [0.01,0.03,0.05,0.1,0.2,0.3,0.4,0.5,0.6,0.7,0.8,0.9]:\n",
    "    X_train,X_validate,y_train,y_validate=train_test_split(X,y,test_size=i,random_state=1)\n",
    "    y_train=y_train.reshape(X_train.shape[0],1)\n",
    "    y=y.reshape(X.shape[0],1)\n",
    "    y_validate=y_validate.reshape(X_validate.shape[0],1)\n",
    "\n",
    "    #初始化模型参数\n",
    "    rgen = np.random.RandomState(1)\n",
    "    w = rgen.normal(loc=0.0, scale=0.01, size=1 + X.shape[1])\n",
    "\n",
    "    #损失函数\n",
    "    def loss_mse(pred,true): \n",
    "        loss=0\n",
    "        for i in true-pred:\n",
    "            loss+=i.tolist()[0][0]*i.tolist()[0][0]/2\n",
    "        return loss/true.shape[0]\n",
    "    \n",
    "    #闭式解\n",
    "    def close_solution(X,y):\n",
    "        X=mat(X)\n",
    "        y=mat(y)\n",
    "        X1=lg.inv(X.T*X)\n",
    "        X2=X.T\n",
    "        X3=X1*X2\n",
    "        return X3*y\n",
    "\n",
    "    #权重参数w\n",
    "    w=close_solution(X_train,y_train)\n",
    "    loss_train.append(loss_mse(X_train*w,y_train))\n",
    "    loss_validate.append(loss_mse(X_validate*w,y_validate))    \n",
    "    loss.append(loss_mse(X*w,y))\n",
    "#    print(loss_mse(X_train*w,y_train))\n",
    "#    print(loss_mse(X_validate*w,y_validate))\n",
    "#    print(i)\n",
    "#    print(loss)\n",
    "\n",
    "test_size = [0.01,0.03,0.05,0.1,0.2,0.3,0.4,0.5,0.6,0.7,0.8,0.9]\n",
    "#图一\n",
    "plt.plot(test_size, loss_validate,color='r',label=\"validate\")\n",
    "plt.plot(test_size,loss_train,color='b',label=\"train\")\n",
    "plt.plot(test_size,loss,color='g',label=\"total\")\n",
    "plt.xlabel('test_size')\n",
    "plt.ylabel('loss')\n",
    "plt.legend(loc='lower center')\n",
    "plt.show()\n",
    "\n"
   ]
  },
  {
   "cell_type": "code",
   "execution_count": null,
   "metadata": {},
   "outputs": [],
   "source": []
  },
  {
   "cell_type": "code",
   "execution_count": null,
   "metadata": {},
   "outputs": [],
   "source": []
  },
  {
   "cell_type": "code",
   "execution_count": null,
   "metadata": {},
   "outputs": [],
   "source": []
  }
 ],
 "metadata": {
  "kernelspec": {
   "display_name": "Python 2",
   "language": "python",
   "name": "python2"
  },
  "language_info": {
   "codemirror_mode": {
    "name": "ipython",
    "version": 2
   },
   "file_extension": ".py",
   "mimetype": "text/x-python",
   "name": "python",
   "nbconvert_exporter": "python",
   "pygments_lexer": "ipython2",
   "version": "2.7.15"
  }
 },
 "nbformat": 4,
 "nbformat_minor": 2
}
